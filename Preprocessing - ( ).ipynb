{
 "cells": [
  {
   "cell_type": "markdown",
   "id": "377c546f",
   "metadata": {},
   "source": [
    "## 패키지 import"
   ]
  },
  {
   "cell_type": "code",
   "execution_count": 2,
   "id": "f41ed825",
   "metadata": {},
   "outputs": [],
   "source": [
    "import numpy as np\n",
    "import pandas as pd\n",
    "import matplotlib.pyplot as plt\n",
    "\n",
    "import os"
   ]
  },
  {
   "cell_type": "markdown",
   "id": "4347ff95",
   "metadata": {},
   "source": [
    "## 데이터 가져오기"
   ]
  },
  {
   "cell_type": "code",
   "execution_count": 4,
   "id": "7f08fab5",
   "metadata": {},
   "outputs": [],
   "source": [
    "data_origin = pd.read_excel('./(VOD,커머스,컨텐츠).xlsx', sheet_name = 'VOD')"
   ]
  },
  {
   "cell_type": "code",
   "execution_count": null,
   "id": "00d39141",
   "metadata": {},
   "outputs": [],
   "source": [
    "data_origin.head()"
   ]
  },
  {
   "cell_type": "markdown",
   "id": "1abc6779",
   "metadata": {},
   "source": [
    "## 정규 표현식"
   ]
  },
  {
   "cell_type": "code",
   "execution_count": 6,
   "id": "4ef2257e",
   "metadata": {},
   "outputs": [],
   "source": [
    "import re"
   ]
  },
  {
   "cell_type": "code",
   "execution_count": 11,
   "id": "516ca1a1",
   "metadata": {},
   "outputs": [],
   "source": [
    "sample_data = data_origin['asset_nm'][0]"
   ]
  },
  {
   "cell_type": "code",
   "execution_count": 19,
   "id": "25ce5e67",
   "metadata": {},
   "outputs": [
    {
     "name": "stdout",
     "output_type": "stream",
     "text": [
      "<class 'str'>\n",
      "과학수사대 스모킹 건 18회(23/08/02)\n"
     ]
    }
   ],
   "source": [
    "print(type(sample_data))\n",
    "print(sample_data)"
   ]
  },
  {
   "cell_type": "markdown",
   "id": "32c7f12f",
   "metadata": {},
   "source": [
    "### 방송 날짜 구분하기"
   ]
  },
  {
   "cell_type": "code",
   "execution_count": 87,
   "id": "879cbb4c",
   "metadata": {},
   "outputs": [],
   "source": [
    "# 패턴 설정\n",
    "# '(' 로 시작하면서 ')' 로 끝나야 함\n",
    "# 괄호 사이에 숫자와 '/' 가 들어가야 하는데 그 갯수는 5개 이상 <= {5,}\n",
    "# 4 이하의 숫자를 사용하면 '(2021)' 같은 값도 가져오기에 이를 피하기 위함\n",
    "\n",
    "pat = re.compile('\\([\\d\\/]{5,}\\)')"
   ]
  },
  {
   "cell_type": "code",
   "execution_count": 25,
   "id": "64f4581d",
   "metadata": {},
   "outputs": [
    {
     "name": "stdout",
     "output_type": "stream",
     "text": [
      "re.compile('[\\\\d]')\n"
     ]
    }
   ],
   "source": [
    "print(pat)"
   ]
  },
  {
   "cell_type": "code",
   "execution_count": 88,
   "id": "65cce93a",
   "metadata": {},
   "outputs": [],
   "source": [
    "matching = pat.search(sample_data)"
   ]
  },
  {
   "cell_type": "code",
   "execution_count": 89,
   "id": "bec8ed3c",
   "metadata": {
    "scrolled": true
   },
   "outputs": [
    {
     "name": "stdout",
     "output_type": "stream",
     "text": [
      "<re.Match object; span=(15, 25), match='(23/08/02)'>\n"
     ]
    }
   ],
   "source": [
    "print(matching)"
   ]
  },
  {
   "cell_type": "code",
   "execution_count": 66,
   "id": "48debcd6",
   "metadata": {
    "scrolled": true
   },
   "outputs": [
    {
     "name": "stdout",
     "output_type": "stream",
     "text": [
      "0      과학수사대 스모킹 건 18회(23/08/02)\n",
      "1    (HD)그것이알고싶다 1364회(23/08/12)\n",
      "2    (HD)그것이알고싶다 1366회(23/08/26)\n",
      "3      과학수사대 스모킹 건 13회(23/06/21)\n",
      "Name: asset_nm, dtype: object\n"
     ]
    }
   ],
   "source": [
    "print(data_origin['asset_nm'][0:4])"
   ]
  },
  {
   "cell_type": "code",
   "execution_count": 67,
   "id": "9c9b80d7",
   "metadata": {
    "scrolled": true
   },
   "outputs": [
    {
     "name": "stdout",
     "output_type": "stream",
     "text": [
      "<class 'str'>\n",
      "과학수사대 스모킹 건 18회(23/08/02)\n",
      "<class 'str'>\n",
      "(HD)그것이알고싶다 1364회(23/08/12)\n",
      "<class 'str'>\n",
      "(HD)그것이알고싶다 1366회(23/08/26)\n",
      "<class 'str'>\n",
      "과학수사대 스모킹 건 13회(23/06/21)\n"
     ]
    }
   ],
   "source": [
    "for item in data_origin['asset_nm'][0:4]:\n",
    "    print(type(item))\n",
    "    print(item)"
   ]
  },
  {
   "cell_type": "code",
   "execution_count": 90,
   "id": "425ce209",
   "metadata": {},
   "outputs": [],
   "source": [
    "# 패턴 적용해서 날짜를 구분해내는지 확인\n",
    "\n",
    "li = []\n",
    "\n",
    "for item in data_origin['asset_nm']:\n",
    "    item = str(item) # str 로 만들지 않으면 int 타입 데이터로 인해 에러가 발생\n",
    "    match_data = pat.findall(item)\n",
    "    if(match_data):\n",
    "        li += match_data\n",
    "    "
   ]
  },
  {
   "cell_type": "code",
   "execution_count": 92,
   "id": "5becdfea",
   "metadata": {},
   "outputs": [],
   "source": [
    "#print(li)"
   ]
  },
  {
   "cell_type": "markdown",
   "id": "18aad756",
   "metadata": {},
   "source": [
    "### 괄호 안의 데이터 확인하기"
   ]
  },
  {
   "cell_type": "code",
   "execution_count": 124,
   "id": "dce0789c",
   "metadata": {},
   "outputs": [],
   "source": [
    "# | 는 앞과 뒤 중 하나의 패턴에 or 적용\n",
    "pattern2 = re.compile('\\([A-Za-z가-힣\\s]+\\)|\\([가-힣\\d\\s]+[^\\d\\d\\d\\d]\\)')"
   ]
  },
  {
   "cell_type": "code",
   "execution_count": 134,
   "id": "3f5cf61e",
   "metadata": {},
   "outputs": [],
   "source": [
    "# 괄호 안의 데이터들을 가져와서 확인\n",
    "\n",
    "li = []\n",
    "\n",
    "for item in data_origin['asset_nm']:\n",
    "    item = str(item)\n",
    "    match_data = pattern2.findall(item)\n",
    "    for pt in match_data:\n",
    "        if(pt not in li):\n",
    "            li += match_data"
   ]
  },
  {
   "cell_type": "code",
   "execution_count": 135,
   "id": "e9a12558",
   "metadata": {},
   "outputs": [
    {
     "name": "stdout",
     "output_type": "stream",
     "text": [
      "['(HD)', '(정규)', '(A)', '(하)', '(상)', '(SD)', '(드라마)', '(KBS)', '(더빙)', '(더빙)', '(N)', '(자막)', '(FREE)', '(무료)', '(예고)', '(한국판)', '(디지털리마스터링)', '(시청각)', '(9월 이벤트)', '(노는계집 창)', '(패키지)', '(예고)', '(6인 6색 캐릭터 영상)', '(예고편)', '(영어자막)', '(예약구매)', '(천사데이)', '(영어)', '(영어더빙)', '(한국어)', '(부모)']\n"
     ]
    }
   ],
   "source": [
    "print(li)"
   ]
  },
  {
   "cell_type": "code",
   "execution_count": 131,
   "id": "28fdf7d7",
   "metadata": {
    "scrolled": true
   },
   "outputs": [
    {
     "name": "stdout",
     "output_type": "stream",
     "text": [
      "<class 'list'>\n",
      "<class 'list'>\n",
      "<class 'list'>\n",
      "<class 'list'>\n",
      "<class 'list'>\n",
      "<class 'list'>\n",
      "<class 'list'>\n",
      "<class 'list'>\n",
      "<class 'list'>\n",
      "<class 'list'>\n",
      "<class 'list'>\n",
      "<class 'list'>\n",
      "<class 'list'>\n",
      "<class 'list'>\n",
      "<class 'list'>\n",
      "<class 'list'>\n",
      "<class 'list'>\n",
      "<class 'list'>\n",
      "<class 'list'>\n",
      "<class 'list'>\n"
     ]
    }
   ],
   "source": [
    "for item in data_origin['asset_nm'][:20]:\n",
    "    item = str(item)\n",
    "    match_data = pattern2.findall(item)\n",
    "    print(type(match_data))"
   ]
  },
  {
   "cell_type": "markdown",
   "id": "77dc6ef9",
   "metadata": {},
   "source": [
    "## 괄호 안의 데이터 삭제해서 데이터 전처리"
   ]
  },
  {
   "cell_type": "code",
   "execution_count": 183,
   "id": "423663d0",
   "metadata": {},
   "outputs": [],
   "source": [
    "# 각 row 에서 괄호 패턴과 일치하는 부분을 찾고\n",
    "# 그 부분을 삭제해서 새로운 이름 문자열을 만든 다음\n",
    "# 새로운 리스트에 저장\n",
    "\n",
    "pattern = re.compile('\\([A-Za-z가-힣\\s]+\\)|\\([가-힣\\d\\s]+\\)|\\([\\d\\/]{5,}\\)')\n",
    "\n",
    "new_data = []\n",
    "\n",
    "for item in data_origin['asset_nm'][:20]:\n",
    "    item = str(item)\n",
    "    match_pattern = pattern.findall(item)\n",
    "    \n",
    "    for dt in match_pattern:\n",
    "        item.replace(dt, \"\")\n",
    "        new_data.append(dt)\n",
    "        \n",
    "    new_data.append(item)\n",
    "    \n",
    "        "
   ]
  },
  {
   "cell_type": "code",
   "execution_count": 184,
   "id": "ffde685e",
   "metadata": {},
   "outputs": [
    {
     "name": "stdout",
     "output_type": "stream",
     "text": [
      "['과학수사대 스모킹 건 18회(23/08/02)', '(HD)그것이알고싶다 1364회(23/08/12)', '(HD)그것이알고싶다 1366회(23/08/26)', '과학수사대 스모킹 건 13회(23/06/21)', '식객 허영만의 백반기행 206회(23/07/07)', '한문철의 블랙박스 리뷰 01회(22/09/22)', '꼬리에꼬리를무는그날이야기 93회(23/09/07)', '한문철의 블랙박스 리뷰 01회(22/09/22)', '(HD)그것이알고싶다 1367회(23/09/02)', '(HD)그것이알고싶다 1368회(23/09/09)', '과학수사대 스모킹 건 15회(23/07/05)', '과학수사대 스모킹 건 16회(23/07/12)', '식객 허영만의 백반기행 210회(23/08/04)', '과학수사대 스모킹 건 12회(23/06/14)', '식객 허영만의 백반기행 206회(23/07/07)', '과학수사대 스모킹 건 12회(23/06/14)', '2023 역사저널 그날 29회(23/07/30)', '(HD)그것이알고싶다 1364회(23/08/12)', '꼬리에꼬리를무는그날이야기 54회(22/11/17)', '식객 허영만의 백반기행 207회(23/07/14)']\n"
     ]
    }
   ],
   "source": [
    "print(new_data)"
   ]
  },
  {
   "cell_type": "code",
   "execution_count": 175,
   "id": "7ddb0815",
   "metadata": {
    "scrolled": true
   },
   "outputs": [
    {
     "name": "stdout",
     "output_type": "stream",
     "text": [
      "과학수사대 스모킹 건 18회(23/08/02)\n",
      "<class 'str'>\n"
     ]
    }
   ],
   "source": [
    "print(new_data[0])\n",
    "print(type(new_data[0]))"
   ]
  },
  {
   "cell_type": "code",
   "execution_count": 177,
   "id": "21742338",
   "metadata": {},
   "outputs": [],
   "source": [
    "p = '(23/08/02)'"
   ]
  },
  {
   "cell_type": "code",
   "execution_count": 178,
   "id": "082ab5ca",
   "metadata": {},
   "outputs": [
    {
     "data": {
      "text/plain": [
       "'과학수사대 스모킹 건 18회'"
      ]
     },
     "execution_count": 178,
     "metadata": {},
     "output_type": "execute_result"
    }
   ],
   "source": [
    "new_data[0].replace(p, \"\")"
   ]
  }
 ],
 "metadata": {
  "kernelspec": {
   "display_name": "Python 3 (ipykernel)",
   "language": "python",
   "name": "python3"
  },
  "language_info": {
   "codemirror_mode": {
    "name": "ipython",
    "version": 3
   },
   "file_extension": ".py",
   "mimetype": "text/x-python",
   "name": "python",
   "nbconvert_exporter": "python",
   "pygments_lexer": "ipython3",
   "version": "3.10.9"
  }
 },
 "nbformat": 4,
 "nbformat_minor": 5
}
